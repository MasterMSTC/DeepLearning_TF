{
  "nbformat": 4,
  "nbformat_minor": 0,
  "metadata": {
    "colab": {
      "name": "MSTC_Tensorboard_in_Colab.ipynb",
      "version": "0.3.2",
      "provenance": [],
      "collapsed_sections": []
    },
    "kernelspec": {
      "name": "python3",
      "display_name": "Python 3"
    },
    "accelerator": "GPU"
  },
  "cells": [
    {
      "metadata": {
        "id": "RJR2Fgttvstk",
        "colab_type": "text"
      },
      "cell_type": "markdown",
      "source": [
        "# Debugging and Understanding DNNs using <font color=#ff6600>TensorBoard</font> (in Google Colab) \n",
        "\n",
        "## Following: [Quick guide to run Tensorboard in Google Colab](https://www.dlology.com/blog/quick-guide-to-run-tensorboard-in-google-colab/)\n",
        "\n",
        "## By Chengwei \n",
        "\n",
        "![Tensorboard](https://cdn-images-1.medium.com/max/1600/1*Ta8DXEzDBjtzLw7VeYwMyQ.png)\n",
        "<br>\n",
        "\n",
        "\n",
        "\n",
        "# * [MSTC](http://mstc.ssr.upm.es/big-data-track) and MUIT: <font size=5 color='green'>Deep Learning with Tensorflow & Keras</font>\n"
      ]
    },
    {
      "metadata": {
        "id": "oktU0o_3NccE",
        "colab_type": "text"
      },
      "cell_type": "markdown",
      "source": [
        "\n",
        "\n",
        "---\n",
        "# <font color=#ff6600> TensorBoard</font>: \n",
        "\n",
        "## [Visualizing Learning](https://www.tensorflow.org/guide/summaries_and_tensorboard)\n",
        "\n",
        "- ## A Visualization Tool to understand, debug, and optimize TensorFlow programs.\n",
        "\n",
        "- ## You can use TensorBoard to visualize your TensorFlow graph, plot quantitative metrics about the execution of your graph, and show additional data like images that pass through it. When TensorBoard is fully configured, it looks like this:\n",
        "\n",
        "## in <font color=FF103> Keras</font> : you have you use TensorBoard [callbacks](https://keras.io/callbacks/)\n",
        "\n",
        "    * A callback is a set of functions to be applied at given stages of the training procedure.\n",
        "    \n",
        "    * You can use callbacks to get a view on internal states and statistics of the model during training.\n",
        "\n",
        "<font size=4 color=FF103>TensorBoard callback</font>\n",
        "\n",
        "<font size=4>This callback writes a log for TensorBoard, which allows you to visualize dynamic graphs of your training and test metrics, as well as activation histograms for the different layers in your model.\n",
        "\n",
        "      tensorboard --logdir=/full_path_to_your_logs\n"
      ]
    },
    {
      "metadata": {
        "id": "6OsepRXawxK5",
        "colab_type": "text"
      },
      "cell_type": "markdown",
      "source": [
        "\n",
        "---\n",
        "\n",
        "## How to access the TensorBoard page from our local machine?\n",
        "\n",
        "- ## We are going to use a free service named <font color=BB9903>ngrok</font> to tunnel the connection to your local machine.\n",
        "\n",
        "<font size=5>Here is a graph to show how it works.</font>\n",
        "\n",
        "![ngrog](https://gitcdn.xyz/cdn/Tony607/blog_statics/d425c3fe4cf0d92067572e25ae6cc3198d51936b//images/ngrok/ngrok.jpg)\n",
        "\n"
      ]
    },
    {
      "metadata": {
        "id": "cJOdcB0jZLEg",
        "colab_type": "code",
        "colab": {}
      },
      "cell_type": "code",
      "source": [
        "!wget https://bin.equinox.io/c/4VmDzA7iaHb/ngrok-stable-linux-amd64.zip\n",
        "!unzip -o ngrok-stable-linux-amd64.zip"
      ],
      "execution_count": 0,
      "outputs": []
    },
    {
      "metadata": {
        "id": "xxlyLTryeAzM",
        "colab_type": "text"
      },
      "cell_type": "markdown",
      "source": [
        "## Run <font color=#ff6600>TensorBoard</font>\n",
        "\n",
        "- ### *logdir* should be provided with the same logs directory path that you provided in your training code (You can name it whatever you want)\n",
        "\n",
        "- ### Use host and port (6006) for accssing the Tensorboard dashboard.\n",
        "\n",
        "- ### The dashboard won’t display the plots until the model training begins."
      ]
    },
    {
      "metadata": {
        "id": "b0wdo5o8dyzm",
        "colab_type": "code",
        "colab": {}
      },
      "cell_type": "code",
      "source": [
        "LOG_DIR = './log'\n",
        "get_ipython().system_raw(\n",
        "    'tensorboard --logdir {} --host 0.0.0.0 --port 6006 &'\n",
        "    .format(LOG_DIR)\n",
        ")"
      ],
      "execution_count": 0,
      "outputs": []
    },
    {
      "metadata": {
        "id": "2Fmv_Kj4ewmv",
        "colab_type": "text"
      },
      "cell_type": "markdown",
      "source": [
        "## Run <font color=BB9903>ngrok</font>"
      ]
    },
    {
      "metadata": {
        "id": "SRi8c-KQePas",
        "colab_type": "code",
        "colab": {}
      },
      "cell_type": "code",
      "source": [
        "get_ipython().system_raw('./ngrok http 6006 &')"
      ],
      "execution_count": 0,
      "outputs": []
    },
    {
      "metadata": {
        "id": "O_8v4ZK5ezdU",
        "colab_type": "text"
      },
      "cell_type": "markdown",
      "source": [
        "## Get URL\n",
        "Run the next cell to start the training before open the url."
      ]
    },
    {
      "metadata": {
        "id": "LYvGuEaMeu-C",
        "colab_type": "code",
        "colab": {}
      },
      "cell_type": "code",
      "source": [
        "! curl -s http://localhost:4040/api/tunnels | python3 -c \\\n",
        "    \"import sys, json; print(json.load(sys.stdin)['tunnels'][0]['public_url'])\""
      ],
      "execution_count": 0,
      "outputs": []
    },
    {
      "metadata": {
        "id": "XKN-NqTjTaPV",
        "colab_type": "text"
      },
      "cell_type": "markdown",
      "source": [
        "## Remember that \n",
        "- ### The dashboard won’t display the plots until the model training begins.\n"
      ]
    },
    {
      "metadata": {
        "id": "Aus-alWQe_lD",
        "colab_type": "text"
      },
      "cell_type": "markdown",
      "source": [
        "---\n",
        "\n",
        "## Run a Keras model with <font color=#ff6600>Tensorboard</font>\n",
        "\n",
        "### [Train a simple deep NN on the MNIST dataset](https://github.com/keras-team/keras/blob/master/examples/mnist_mlp.py)\n"
      ]
    },
    {
      "metadata": {
        "id": "vh0emhCYVyYd",
        "colab_type": "code",
        "colab": {}
      },
      "cell_type": "code",
      "source": [
        "'''Trains a simple deep NN on the MNIST dataset.\n",
        "Gets to 98.40% test accuracy after 20 epochs\n",
        "(there is *a lot* of margin for parameter tuning).\n",
        "2 seconds per epoch on a K520 GPU.\n",
        "'''\n",
        "\n",
        "from __future__ import print_function\n",
        "\n",
        "import keras\n",
        "from keras.datasets import mnist\n",
        "from keras.models import Sequential\n",
        "from keras.layers import Dense, Dropout\n",
        "from keras.optimizers import RMSprop\n",
        "from keras.callbacks import TensorBoard\n",
        "\n",
        "batch_size = 128\n",
        "num_classes = 10\n",
        "epochs = 20\n",
        "\n",
        "# the data, split between train and test sets\n",
        "(x_train, y_train), (x_test, y_test) = mnist.load_data()\n",
        "\n",
        "x_train = x_train.reshape(60000, 784)\n",
        "x_test = x_test.reshape(10000, 784)\n",
        "x_train = x_train.astype('float32')\n",
        "x_test = x_test.astype('float32')\n",
        "\n",
        "\n",
        "print(x_train.shape[0], 'train samples')\n",
        "print(x_test.shape[0], 'test samples')\n",
        "\n",
        "# convert class vectors to binary class matrices\n",
        "y_train = keras.utils.to_categorical(y_train, num_classes)\n",
        "y_test = keras.utils.to_categorical(y_test, num_classes)\n",
        "\n",
        "model = Sequential()\n",
        "model.add(Dense(512, activation='relu', input_shape=(784,)))\n",
        "\n",
        "model.add(Dense(num_classes, activation='softmax'))\n",
        "\n",
        "model.summary()\n"
      ],
      "execution_count": 0,
      "outputs": []
    },
    {
      "metadata": {
        "id": "02a2gsxpfaBg",
        "colab_type": "text"
      },
      "cell_type": "markdown",
      "source": [
        "- ### you only can see the graph but it is no easy: https://www.tensorflow.org/guide/summaries_and_tensorboard "
      ]
    },
    {
      "metadata": {
        "id": "CI7vdgzWfJfC",
        "colab_type": "code",
        "colab": {}
      },
      "cell_type": "code",
      "source": [
        "model.compile(loss='categorical_crossentropy',\n",
        "              optimizer=RMSprop(lr=0.001),\n",
        "              metrics=['accuracy'])\n",
        "\n",
        "\n",
        "tbCallBack = TensorBoard(log_dir='./log', histogram_freq=1,\n",
        "                         write_graph=True,\n",
        "                         write_grads=True,\n",
        "                         batch_size=batch_size,\n",
        "                         write_images=True)\n",
        "\n",
        "model.fit(x_train, y_train,\n",
        "          batch_size=batch_size,\n",
        "          epochs=epochs,\n",
        "          verbose=1,\n",
        "          validation_data=(x_test, y_test),\n",
        "          callbacks=[tbCallBack])\n",
        "\n",
        "\n",
        "\n",
        "\n",
        "score = model.evaluate(x_test, y_test, verbose=0)\n",
        "\n",
        "print('Test loss:', score[0])\n",
        "print('Test accuracy:', score[1])"
      ],
      "execution_count": 0,
      "outputs": []
    },
    {
      "metadata": {
        "id": "Bg3K-gsjcvW8",
        "colab_type": "text"
      },
      "cell_type": "markdown",
      "source": [
        "## Optionally check tensorboard and <font color=BB9903>ngrok</font> PIDs and stop them"
      ]
    },
    {
      "metadata": {
        "id": "eL37XgQzct2O",
        "colab_type": "code",
        "colab": {}
      },
      "cell_type": "code",
      "source": [
        "!ps aux | grep tensorboard"
      ],
      "execution_count": 0,
      "outputs": []
    },
    {
      "metadata": {
        "id": "rjX5-8hbc3pq",
        "colab_type": "code",
        "colab": {}
      },
      "cell_type": "code",
      "source": [
        "!ps aux | grep ngrok"
      ],
      "execution_count": 0,
      "outputs": []
    },
    {
      "metadata": {
        "id": "V2PICDB1c_f4",
        "colab_type": "code",
        "colab": {}
      },
      "cell_type": "code",
      "source": [
        "# !kill 881"
      ],
      "execution_count": 0,
      "outputs": []
    },
    {
      "metadata": {
        "id": "mufJfApOdEve",
        "colab_type": "text"
      },
      "cell_type": "markdown",
      "source": [
        "## Optionally clear the <font color=#ff6600>Tensorboard</font> records directory"
      ]
    },
    {
      "metadata": {
        "id": "vzejdG0ueCwb",
        "colab_type": "code",
        "colab": {}
      },
      "cell_type": "code",
      "source": [
        "ls -al ./log"
      ],
      "execution_count": 0,
      "outputs": []
    },
    {
      "metadata": {
        "id": "ZRtB8FBsoqxW",
        "colab_type": "code",
        "colab": {}
      },
      "cell_type": "code",
      "source": [
        "#! rm ./log/events.out.tfevents.1542892772.ac243cb9284d"
      ],
      "execution_count": 0,
      "outputs": []
    },
    {
      "metadata": {
        "id": "y0ivRyTBdJjc",
        "colab_type": "code",
        "colab": {}
      },
      "cell_type": "code",
      "source": [
        "#!rm -rf ./log"
      ],
      "execution_count": 0,
      "outputs": []
    },
    {
      "metadata": {
        "id": "y4qD-x1dSJNs",
        "colab_type": "code",
        "colab": {}
      },
      "cell_type": "code",
      "source": [
        "#!rm -rf ngrok-stable-linux-amd64.zip*"
      ],
      "execution_count": 0,
      "outputs": []
    },
    {
      "metadata": {
        "id": "cPWy_VSKw2go",
        "colab_type": "code",
        "colab": {}
      },
      "cell_type": "code",
      "source": [
        ""
      ],
      "execution_count": 0,
      "outputs": []
    }
  ]
}